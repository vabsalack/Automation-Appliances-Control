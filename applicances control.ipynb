{
 "cells": [
  {
   "cell_type": "code",
   "execution_count": null,
   "metadata": {
    "collapsed": true,
    "pycharm": {
     "is_executing": true
    }
   },
   "outputs": [],
   "source": [
    "import cv2\n",
    "import numpy as np\n",
    "from picamera.array import PiRGBArray\n",
    "from picamera import PiCamera\n",
    "import time\n",
    "import RPi.GPIO as r"
   ]
  },
  {
   "cell_type": "code",
   "execution_count": null,
   "metadata": {},
   "outputs": [],
   "source": [
    "r.setmode(r.BCM)\n",
    "r.setwarnings(False)\n",
    "r.setup(18, r.OUT)\n",
    "r.setup(23, r.OUT)\n",
    "r.setup(24, r.OUT)\n",
    "r.setup(25, r.OUT)"
   ]
  },
  {
   "cell_type": "code",
   "execution_count": null,
   "metadata": {},
   "outputs": [],
   "source": [
    "# Initialize PiCamera and set resolution\n",
    "camera = PiCamera()\n",
    "camera.resolution = (640, 480)\n",
    "camera.framerate = 32\n",
    "rawCapture = PiRGBArray(camera, size=(640, 480))"
   ]
  },
  {
   "cell_type": "code",
   "execution_count": null,
   "metadata": {},
   "outputs": [],
   "source": [
    "# Allow the camera to warm up\n",
    "time.sleep(0.1)"
   ]
  },
  {
   "cell_type": "code",
   "execution_count": null,
   "metadata": {},
   "outputs": [],
   "source": [
    "# Load Haar Cascade classifier for face detection\n",
    "face_cascade = cv2.CascadeClassifier('haarcascade_frontalface_default.xml')"
   ]
  },
  {
   "cell_type": "code",
   "execution_count": null,
   "metadata": {},
   "outputs": [],
   "source": [
    "# Define the known width of the face (in meters) and the focal length of the camera (in pixels)\n",
    "KNOWN_WIDTH = 0.15 # meters\n",
    "FOCAL_LENGTH = 600 # pixels"
   ]
  },
  {
   "cell_type": "code",
   "execution_count": null,
   "metadata": {},
   "outputs": [],
   "source": [
    "# Divide the camera's field of view into four quadrants\n",
    "width, height = camera.resolution\n",
    "quadrant_width = int(width / 2)\n",
    "quadrant_height = int(height / 2)"
   ]
  },
  {
   "cell_type": "code",
   "execution_count": 1,
   "outputs": [],
   "source": [
    "no_of_rows = 2\n",
    "no_of_columns = 2"
   ],
   "metadata": {
    "collapsed": false
   }
  },
  {
   "cell_type": "code",
   "execution_count": 10,
   "outputs": [
    {
     "name": "stdout",
     "output_type": "stream",
     "text": [
      "[0, 0]\n",
      "[0, 0]\n"
     ]
    }
   ],
   "source": [
    "floor_map = [[0 for _ in range(no_of_columns)] for _ in range(no_of_rows)]\n",
    "print(floor_map[0],\"\\n\",floor_map[1], sep=\"\")"
   ],
   "metadata": {
    "collapsed": false
   }
  },
  {
   "cell_type": "code",
   "execution_count": null,
   "outputs": [],
   "source": [
    "def on_off_appliances():\n",
    "    if floor_map[1][0] == 1:\n",
    "        r.output(18, r.HIGH)\n",
    "    else:\n",
    "         r.output(18, r.LOW)\n",
    "\n",
    "    if floor_map[0][0] == 1:\n",
    "        r.output(23, r.HIGH)\n",
    "    else:\n",
    "         r.output(23, r.LOW)\n",
    "\n",
    "    if floor_map[1][1] == 1:\n",
    "        r.output(24, r.HIGH)\n",
    "    else:\n",
    "         r.output(24, r.LOW)\n",
    "\n",
    "    if floor_map[0][1] == 1:\n",
    "        r.output(25, r.HIGH)\n",
    "    else:\n",
    "         r.output(25, r.LOW)"
   ],
   "metadata": {
    "collapsed": false
   }
  },
  {
   "cell_type": "code",
   "execution_count": 2,
   "metadata": {},
   "outputs": [],
   "source": [
    "for frame in camera.capture_continuous(rawCapture, format=\"bgr\", use_video_port=True):\n",
    "    # Convert the raw frame to a NumPy array\n",
    "    image = frame.array\n",
    "\n",
    "    # Convert the image to grayscale\n",
    "    gray = cv2.cvtColor(image, cv2.COLOR_BGR2GRAY)\n",
    "\n",
    "    # Add a vertical line to separate left and right side of the frame\n",
    "    cv2.line(image, (quadrant_width, 0), (quadrant_width, height), (0, 255, 0), 1)\n",
    "\n",
    "    # Detect faces in the grayscale image\n",
    "    faces = face_cascade.detectMultiScale(gray,\n",
    "                                          scaleFactor=1.1,\n",
    "                                          minNeighbors=5,\n",
    "                                          minSize=(30, 30),\n",
    "                                          flags=cv2.CASCADE_SCALE_IMAGE)\n",
    "\n",
    "    # Determine which quadrant the detected face is in and turn on the corresponding LED\n",
    "\n",
    "    '''\n",
    "        |----------------------|----------------------|\n",
    "        |                      |                      |\n",
    "        |  floor_map[0][0]     |    floor_map[0][1]   |\n",
    "        |                      |                      |\n",
    "        |----------------------|----------------------|\n",
    "        |                      |                      |\n",
    "        |  floor_map[1][0]     |    floor_map[1][1]   |\n",
    "        |                      |                      |\n",
    "        |----------------------|----------------------|\n",
    "    '''\n",
    "    floor_map[0][0] = floor_map[0][1] = floor_map[1][0] = floor_map[1][1] = 0\n",
    "\n",
    "    for (x, y, w, h) in faces:\n",
    "        # Calculate the distance of the detected face from the camera\n",
    "        face_width = w\n",
    "        distance = (KNOWN_WIDTH * FOCAL_LENGTH) / face_width\n",
    "        print(\"Distance: {:.2f} meters\".format(distance))\n",
    "\n",
    "        # Calculate the center point of the detected face\n",
    "        face_center = x + (w / 2)\n",
    "\n",
    "        # Determine which side of the field of view the face is on\n",
    "        if face_center < quadrant_width:\n",
    "            if distance < 0.5:\n",
    "                floor_map[1][0] = 1\n",
    "            elif distance > 0.5:\n",
    "                 floor_map[0][0] = 1\n",
    "        elif face_center > quadrant_width:\n",
    "\n",
    "            if distance < 0.5:\n",
    "                 floor_map[1][1] = 1\n",
    "            elif distance > 0.5:\n",
    "                 floor_map[0][1] = 1\n",
    "\n",
    "\n",
    "        on_off_appliances()\n",
    "        # introduce some delay later. first, check if this ON multiple appliances or not.\n",
    "\n",
    "\n",
    "\n",
    "        # if face_center < quadrant_width:\n",
    "        #     r.output(24,r.LOW)\n",
    "        #     r.output(25,r.LOW)\n",
    "        #     if distance < 0.5:\n",
    "        #         r.output(18,r.HIGH)\n",
    "        #         r.output(23,r.LOW)\n",
    "        #     else:\n",
    "        #         r.output(23,r.HIGH)\n",
    "        #         r.output(18,r.LOW)\n",
    "        # else:\n",
    "        #     r.output(23,r.LOW)\n",
    "        #     r.output(18,r.LOW)\n",
    "        #     if distance < 0.5:\n",
    "        #         r.output(24,r.HIGH)\n",
    "        #         r.output(25,r.LOW)\n",
    "        #     else:\n",
    "        #         r.output(25,r.HIGH)\n",
    "        #         r.output(24,r.LOW)\n",
    "\n",
    "        cv2.rectangle(image, (x, y), (x+w, y+h), (0, 0, 255), 2)\n",
    "\n",
    "    # Display the resulting image\n",
    "    cv2.imshow('Face Detection', image)\n",
    "\n",
    "    # Turn off all LEDs if no face is detected\n",
    "    # if len(faces) == 0:\n",
    "    #     r.output(18, r.LOW)\n",
    "    #     r.output(23, r.LOW)\n",
    "    #     r.output(24, r.LOW)\n",
    "    #     r.output(25, r.LOW)\n",
    "\n",
    "    # Clear the stream in preparation for the next frame\n",
    "    rawCapture.truncate(0)\n",
    "\n",
    "    # Wait for a key press to exit\n",
    "\n",
    "    close = cv2.waitKey(1)\n",
    "    if close == 113: break\n",
    "\n",
    "# Clean up\n",
    "cv2.destroyAllWindows()"
   ]
  },
  {
   "cell_type": "code",
   "execution_count": null,
   "metadata": {},
   "outputs": [],
   "source": []
  }
 ],
 "metadata": {
  "kernelspec": {
   "display_name": "Python 3 (ipykernel)",
   "language": "python",
   "name": "python3"
  },
  "language_info": {
   "codemirror_mode": {
    "name": "ipython",
    "version": 3
   },
   "file_extension": ".py",
   "mimetype": "text/x-python",
   "name": "python",
   "nbconvert_exporter": "python",
   "pygments_lexer": "ipython3",
   "version": "3.10.10"
  }
 },
 "nbformat": 4,
 "nbformat_minor": 1
}
